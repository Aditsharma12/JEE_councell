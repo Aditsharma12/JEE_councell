{
 "cells": [
  {
   "cell_type": "code",
   "execution_count": 23,
   "metadata": {},
   "outputs": [
    {
     "name": "stdout",
     "output_type": "stream",
     "text": [
      "['OPEN' 'EWS' 'OBC-NCL' 'SC' 'ST' 'OPEN (PwD)' 'OBC-NCL (PwD)' 'SC (PwD)'\n",
      " 'EWS (PwD)' 'ST (PwD)']\n"
     ]
    },
    {
     "data": {
      "text/html": [
       "<div>\n",
       "<style scoped>\n",
       "    .dataframe tbody tr th:only-of-type {\n",
       "        vertical-align: middle;\n",
       "    }\n",
       "\n",
       "    .dataframe tbody tr th {\n",
       "        vertical-align: top;\n",
       "    }\n",
       "\n",
       "    .dataframe thead th {\n",
       "        text-align: right;\n",
       "    }\n",
       "</style>\n",
       "<table border=\"1\" class=\"dataframe\">\n",
       "  <thead>\n",
       "    <tr style=\"text-align: right;\">\n",
       "      <th></th>\n",
       "      <th>Institute</th>\n",
       "      <th>Academic Program Name</th>\n",
       "      <th>Quota</th>\n",
       "      <th>Seat Type</th>\n",
       "      <th>Gender</th>\n",
       "      <th>Opening Rank</th>\n",
       "      <th>Closing Rank</th>\n",
       "    </tr>\n",
       "  </thead>\n",
       "  <tbody>\n",
       "    <tr>\n",
       "      <th>4147</th>\n",
       "      <td>National Institute of Technology Agartala</td>\n",
       "      <td>Mechanical Engineering (4 Years, Bachelor of T...</td>\n",
       "      <td>HS</td>\n",
       "      <td>ST</td>\n",
       "      <td>Gender-Neutral</td>\n",
       "      <td>2657</td>\n",
       "      <td>45933</td>\n",
       "    </tr>\n",
       "  </tbody>\n",
       "</table>\n",
       "</div>"
      ],
      "text/plain": [
       "                                      Institute  \\\n",
       "4147  National Institute of Technology Agartala   \n",
       "\n",
       "                                  Academic Program Name Quota Seat Type  \\\n",
       "4147  Mechanical Engineering (4 Years, Bachelor of T...    HS        ST   \n",
       "\n",
       "              Gender Opening Rank Closing Rank  \n",
       "4147  Gender-Neutral         2657        45933  "
      ]
     },
     "execution_count": 23,
     "metadata": {},
     "output_type": "execute_result"
    }
   ],
   "source": [
    "import pandas as pd\n",
    "\n",
    "df = pd.read_csv(\"D:/Programming/Python/RankPredictor/2024 round 2.csv\")\n",
    "# print(df.head())\n",
    "print(df[\"Seat Type\"].unique())\n",
    "df = df[(df[\"Seat Type\"] == \"ST\") & (pd.to_numeric(df[\"Closing Rank\"], errors=\"coerce\") >= 45933)]\n",
    "df.sort_values(by=\"Closing Rank\", key=lambda x: pd.to_numeric(x, errors=\"coerce\"), ascending=True)"
   ]
  },
  {
   "cell_type": "code",
   "execution_count": null,
   "metadata": {},
   "outputs": [],
   "source": []
  }
 ],
 "metadata": {
  "kernelspec": {
   "display_name": "Python 3",
   "language": "python",
   "name": "python3"
  },
  "language_info": {
   "codemirror_mode": {
    "name": "ipython",
    "version": 3
   },
   "file_extension": ".py",
   "mimetype": "text/x-python",
   "name": "python",
   "nbconvert_exporter": "python",
   "pygments_lexer": "ipython3",
   "version": "3.13.1"
  }
 },
 "nbformat": 4,
 "nbformat_minor": 2
}
